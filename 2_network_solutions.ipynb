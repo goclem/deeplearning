{
 "cells": [
  {
   "cell_type": "markdown",
   "metadata": {},
   "source": [
    "**Group information**\n",
    "\n",
    "| Family name | First name | Email address |\n",
    "| ----------- | ---------- | ------------- |\n",
    "|             |            |               |\n",
    "|             |            |               |\n",
    "|             |            |               |"
   ]
  },
  {
   "attachments": {},
   "cell_type": "markdown",
   "metadata": {},
   "source": [
    "# Network - Solutions\n",
    "\n",
    "This tutorial explores how to implement a simple neural network to predict the likelihood of loan default from borrower loan characteristics. The labelled dataset contains 100,000 observations and 16 predictors (e.g. income, credit score). The response is a binary variable indicating whether the borrower defaulted on the loan."
   ]
  },
  {
   "cell_type": "code",
   "execution_count": 1,
   "metadata": {},
   "outputs": [],
   "source": [
    "# Packages\n",
    "import inspect\n",
    "import numpy as np\n",
    "import pandas as pd\n",
    "import shutil\n",
    "import os\n",
    "\n",
    "from matplotlib import pyplot\n",
    "from sklearn import metrics, model_selection, preprocessing\n",
    "from tensorflow.keras import callbacks, layers, losses, models, optimizers, regularizers\n",
    "from urllib import request\n",
    "\n",
    "# Utilities\n",
    "# os.chdir(f\"{os.path.expanduser('~')}/Desktop\")\n",
    "\n",
    "def download_data():\n",
    "    '''Downloads data folder'''\n",
    "    request.urlretrieve('https://www.dropbox.com/scl/fo/enlhq3he4vrxtsw9goup5/AB5uNqD0dwdTG2fO8orV02U?rlkey=oan5la71do06r0gpe5ea5ii5b&dl=1', 'data.zip')\n",
    "    shutil.unpack_archive('data.zip', 'data')\n",
    "    os.remove('data.zip')\n",
    "    os.chdir('data')\n",
    "\n",
    "def plot_history(history, metric='loss', validation=False):\n",
    "    '''Plots the training history for a given metric'''\n",
    "    fig, ax = pyplot.subplots(1, figsize=(5,5))\n",
    "    ax.plot(history[metric], label=f'Validation {metric}')\n",
    "    if validation:\n",
    "        ax.plot(history[f'val_{metric}'], label=f'Validation {metric}')\n",
    "    ax.set_title(f'Model {metric}')\n",
    "    ax.set_ylabel(metric.title())\n",
    "    ax.set_xlabel('Epoch')\n",
    "    ax.legend(['Training', 'Validation'])\n",
    "    pyplot.tight_layout()\n",
    "    pyplot.show()"
   ]
  },
  {
   "attachments": {},
   "cell_type": "markdown",
   "metadata": {},
   "source": [
    "1. Load the `X` and `y` datasets and produce some descriptive statistics."
   ]
  },
  {
   "cell_type": "code",
   "execution_count": 2,
   "metadata": {},
   "outputs": [
    {
     "ename": "ContentTooShortError",
     "evalue": "<urlopen error retrieval incomplete: got only 9633876 out of 9707130 bytes>",
     "output_type": "error",
     "traceback": [
      "\u001b[0;31m---------------------------------------------------------------------------\u001b[0m",
      "\u001b[0;31mContentTooShortError\u001b[0m                      Traceback (most recent call last)",
      "Cell \u001b[0;32mIn[2], line 2\u001b[0m\n\u001b[1;32m      1\u001b[0m \u001b[38;5;66;03m# Loads data\u001b[39;00m\n\u001b[0;32m----> 2\u001b[0m \u001b[43mdownload_data\u001b[49m\u001b[43m(\u001b[49m\u001b[43m)\u001b[49m \u001b[38;5;66;03m# On first run\u001b[39;00m\n\u001b[1;32m      3\u001b[0m X \u001b[38;5;241m=\u001b[39m pd\u001b[38;5;241m.\u001b[39mread_csv(\u001b[38;5;124m'\u001b[39m\u001b[38;5;124mX.csv\u001b[39m\u001b[38;5;124m'\u001b[39m, index_col\u001b[38;5;241m=\u001b[39m\u001b[38;5;124m'\u001b[39m\u001b[38;5;124mloan_id\u001b[39m\u001b[38;5;124m'\u001b[39m)\n\u001b[1;32m      4\u001b[0m y \u001b[38;5;241m=\u001b[39m pd\u001b[38;5;241m.\u001b[39mread_csv(\u001b[38;5;124m'\u001b[39m\u001b[38;5;124my.csv\u001b[39m\u001b[38;5;124m'\u001b[39m, index_col\u001b[38;5;241m=\u001b[39m\u001b[38;5;124m'\u001b[39m\u001b[38;5;124mloan_id\u001b[39m\u001b[38;5;124m'\u001b[39m)\n",
      "Cell \u001b[0;32mIn[1], line 18\u001b[0m, in \u001b[0;36mdownload_data\u001b[0;34m()\u001b[0m\n\u001b[1;32m     16\u001b[0m \u001b[38;5;28;01mdef\u001b[39;00m \u001b[38;5;21mdownload_data\u001b[39m():\n\u001b[1;32m     17\u001b[0m \u001b[38;5;250m    \u001b[39m\u001b[38;5;124;03m'''Downloads data folder'''\u001b[39;00m\n\u001b[0;32m---> 18\u001b[0m     \u001b[43mrequest\u001b[49m\u001b[38;5;241;43m.\u001b[39;49m\u001b[43murlretrieve\u001b[49m\u001b[43m(\u001b[49m\u001b[38;5;124;43m'\u001b[39;49m\u001b[38;5;124;43mhttps://www.dropbox.com/scl/fo/enlhq3he4vrxtsw9goup5/AB5uNqD0dwdTG2fO8orV02U?rlkey=oan5la71do06r0gpe5ea5ii5b&dl=1\u001b[39;49m\u001b[38;5;124;43m'\u001b[39;49m\u001b[43m,\u001b[49m\u001b[43m \u001b[49m\u001b[38;5;124;43m'\u001b[39;49m\u001b[38;5;124;43mdata.zip\u001b[39;49m\u001b[38;5;124;43m'\u001b[39;49m\u001b[43m)\u001b[49m\n\u001b[1;32m     19\u001b[0m     shutil\u001b[38;5;241m.\u001b[39munpack_archive(\u001b[38;5;124m'\u001b[39m\u001b[38;5;124mdata.zip\u001b[39m\u001b[38;5;124m'\u001b[39m, \u001b[38;5;124m'\u001b[39m\u001b[38;5;124mdata\u001b[39m\u001b[38;5;124m'\u001b[39m)\n\u001b[1;32m     20\u001b[0m     os\u001b[38;5;241m.\u001b[39mremove(\u001b[38;5;124m'\u001b[39m\u001b[38;5;124mdata.zip\u001b[39m\u001b[38;5;124m'\u001b[39m)\n",
      "File \u001b[0;32m~/Software/miniconda3/envs/maps/lib/python3.11/urllib/request.py:280\u001b[0m, in \u001b[0;36murlretrieve\u001b[0;34m(url, filename, reporthook, data)\u001b[0m\n\u001b[1;32m    277\u001b[0m                 reporthook(blocknum, bs, size)\n\u001b[1;32m    279\u001b[0m \u001b[38;5;28;01mif\u001b[39;00m size \u001b[38;5;241m>\u001b[39m\u001b[38;5;241m=\u001b[39m \u001b[38;5;241m0\u001b[39m \u001b[38;5;129;01mand\u001b[39;00m read \u001b[38;5;241m<\u001b[39m size:\n\u001b[0;32m--> 280\u001b[0m     \u001b[38;5;28;01mraise\u001b[39;00m ContentTooShortError(\n\u001b[1;32m    281\u001b[0m         \u001b[38;5;124m\"\u001b[39m\u001b[38;5;124mretrieval incomplete: got only \u001b[39m\u001b[38;5;132;01m%i\u001b[39;00m\u001b[38;5;124m out of \u001b[39m\u001b[38;5;132;01m%i\u001b[39;00m\u001b[38;5;124m bytes\u001b[39m\u001b[38;5;124m\"\u001b[39m\n\u001b[1;32m    282\u001b[0m         \u001b[38;5;241m%\u001b[39m (read, size), result)\n\u001b[1;32m    284\u001b[0m \u001b[38;5;28;01mreturn\u001b[39;00m result\n",
      "\u001b[0;31mContentTooShortError\u001b[0m: <urlopen error retrieval incomplete: got only 9633876 out of 9707130 bytes>"
     ]
    }
   ],
   "source": [
    "# Loads data\n",
    "# download_data() # On first run\n",
    "X = pd.read_csv('X.csv', index_col='loan_id')\n",
    "y = pd.read_csv('y.csv', index_col='loan_id')"
   ]
  },
  {
   "cell_type": "code",
   "execution_count": null,
   "metadata": {},
   "outputs": [
    {
     "name": "stdout",
     "output_type": "stream",
     "text": [
      "education\n",
      "high_school    25698\n",
      "bachelor       25392\n",
      "master         24706\n",
      "phd            24204\n",
      "Name: count, dtype: int64\n",
      "\n",
      "employment_type\n",
      "unemployed       25966\n",
      "part_time        25269\n",
      "self_employed    24706\n",
      "full_time        24059\n",
      "Name: count, dtype: int64\n",
      "\n",
      "marital_status\n",
      "divorced    33966\n",
      "single      33221\n",
      "married     32813\n",
      "Name: count, dtype: int64\n",
      "\n",
      "has_mortgage\n",
      "no     50775\n",
      "yes    49225\n",
      "Name: count, dtype: int64\n",
      "\n",
      "has_dependents\n",
      "no     50710\n",
      "yes    49290\n",
      "Name: count, dtype: int64\n",
      "\n",
      "loan_purpose\n",
      "business     20359\n",
      "other        20022\n",
      "auto         19942\n",
      "education    19919\n",
      "home         19758\n",
      "Name: count, dtype: int64\n",
      "\n",
      "has_cosigner\n",
      "no     51110\n",
      "yes    48890\n",
      "Name: count, dtype: int64\n",
      "\n"
     ]
    },
    {
     "data": {
      "text/plain": [
       "[None, None, None, None, None, None, None]"
      ]
     },
     "execution_count": 58,
     "metadata": {},
     "output_type": "execute_result"
    }
   ],
   "source": [
    "# Descriptive statistics\n",
    "y.value_counts()\n",
    "X.head()\n",
    "X.describe()\n",
    "[print(f'{x.value_counts()}\\n') for _, x in X.items() if x.dtype == 'object']"
   ]
  },
  {
   "cell_type": "markdown",
   "metadata": {},
   "source": [
    "2. Pre-process the data by encoding the categorical variables using dummies (see `pd.get_dummies`) and formatting the default variable as probabilities (i.e. `float`)."
   ]
  },
  {
   "cell_type": "code",
   "execution_count": null,
   "metadata": {},
   "outputs": [],
   "source": [
    "# Pre-processing\n",
    "X = pd.concat(list(map(lambda col: pd.get_dummies(col, drop_first=True), [X])))\n",
    "y = y.astype(float)"
   ]
  },
  {
   "cell_type": "markdown",
   "metadata": {},
   "source": [
    "3. Split the dataset into a training and a test sample (see `model_selection.train_test_split`) and allocate 80% of the observations to the training sample."
   ]
  },
  {
   "cell_type": "code",
   "execution_count": null,
   "metadata": {},
   "outputs": [],
   "source": [
    "# Train-test split\n",
    "X_train, X_test, y_train, y_test = model_selection.train_test_split(X, y, train_size=.8, random_state=0)"
   ]
  },
  {
   "attachments": {},
   "cell_type": "markdown",
   "metadata": {},
   "source": [
    "4. Scale the input variables (see `preprocessing.MinMaxScaler`) by fitting the scaler on the training sample and applying the transformation to both the training and the test sample. Explain why input scaling is required for machine learning models."
   ]
  },
  {
   "cell_type": "code",
   "execution_count": null,
   "metadata": {},
   "outputs": [],
   "source": [
    "# Scaling\n",
    "scaler  = preprocessing.MinMaxScaler(feature_range=(0, 1))\n",
    "X_train = scaler.fit_transform(X_train)\n",
    "X_test  = scaler.transform(X_test)\n",
    "del scaler"
   ]
  },
  {
   "attachments": {},
   "cell_type": "markdown",
   "metadata": {},
   "source": [
    "5. Using the `keras` [functional API](https://keras.io/guides/functional_api/), define a network model structure with an input [layer](https://keras.io/api/layers/core_layers/), two dense hidden layers containing 16 units each and ReLU [activation](https://keras.io/api/layers/activations/), as well as an output layer with a single unit and the appropriate activation function."
   ]
  },
  {
   "cell_type": "code",
   "execution_count": null,
   "metadata": {},
   "outputs": [],
   "source": [
    "# Functional API\n",
    "def init_model(nvars:int):\n",
    "  X = layers.Input(shape=(nvars,), name='input_layer')\n",
    "  H = layers.Dense(units=16, activation='relu', name='hidden_layer1')(X)\n",
    "  H = layers.Dense(units=16, activation='relu', name='hidden_layer2')(H)\n",
    "  Y = layers.Dense(units=1, activation='sigmoid', name='output_layer')(H)\n",
    "  model = models.Model(inputs=X, outputs=Y, name='simple_network')\n",
    "  return model"
   ]
  },
  {
   "cell_type": "raw",
   "metadata": {
    "vscode": {
     "languageId": "raw"
    }
   },
   "source": [
    "# Sequential API\n",
    "\n",
    "# Using the add method\n",
    "model = models.Sequential(name='simple_network')\n",
    "model.add(layers.Input(shape=(nvars,), name='input_layer'))\n",
    "model.add(layers.Dense(units=16, activation='relu', name='hidden_layer1'))\n",
    "...\n",
    "\n",
    "# Using a list of layers\n",
    "model = models.Sequential([\n",
    "  layers.Input(shape=(nvars,), name='input_layer'),\n",
    "  layers.Dense(units=16, activation='relu', name='hidden_layer1')\n",
    "  ...\n",
    "  ])"
   ]
  },
  {
   "attachments": {},
   "cell_type": "markdown",
   "metadata": {},
   "source": [
    "5. Intialise an instance of the model and call the `summary` method to visualise the model structure, explain the number of parameters for each layer."
   ]
  },
  {
   "cell_type": "code",
   "execution_count": null,
   "metadata": {},
   "outputs": [
    {
     "name": "stdout",
     "output_type": "stream",
     "text": [
      "Model: \"simple_network\"\n",
      "_________________________________________________________________\n",
      " Layer (type)                Output Shape              Param #   \n",
      "=================================================================\n",
      " input_layer (InputLayer)    [(None, 24)]              0         \n",
      "                                                                 \n",
      " hidden_layer1 (Dense)       (None, 16)                400       \n",
      "                                                                 \n",
      " hidden_layer2 (Dense)       (None, 16)                272       \n",
      "                                                                 \n",
      " output_layer (Dense)        (None, 1)                 17        \n",
      "                                                                 \n",
      "=================================================================\n",
      "Total params: 689 (2.69 KB)\n",
      "Trainable params: 689 (2.69 KB)\n",
      "Non-trainable params: 0 (0.00 Byte)\n",
      "_________________________________________________________________\n"
     ]
    }
   ],
   "source": [
    "# Model initialisation and summary\n",
    "model = init_model(X.shape[1])\n",
    "model.summary()"
   ]
  },
  {
   "attachments": {},
   "cell_type": "markdown",
   "metadata": {},
   "source": [
    "6. [Compile](https://keras.io/api/models/model_training_apis/) the model and specify an appropriate [loss function](https://keras.io/api/losses/) and [optimisation algorithm](https://keras.io/api/optimizers/)."
   ]
  },
  {
   "cell_type": "code",
   "execution_count": null,
   "metadata": {},
   "outputs": [],
   "source": [
    "# Model compilation\n",
    "model.compile(loss=losses.BinaryFocalCrossentropy(), \n",
    "              optimizer=optimizers.legacy.Adam(learning_rate=0.001),\n",
    "              metrics=['accuracy'])"
   ]
  },
  {
   "attachments": {},
   "cell_type": "markdown",
   "metadata": {},
   "source": [
    "7. [Fit](https://keras.io/api/models/model_training_apis/) the model to the training data. Use a batch size of 64 and a maximum of 5 epoch. Plot the training history using the provided function."
   ]
  },
  {
   "cell_type": "code",
   "execution_count": null,
   "metadata": {},
   "outputs": [
    {
     "name": "stdout",
     "output_type": "stream",
     "text": [
      "Epoch 1/5\n",
      "938/938 [==============================] - 5s 5ms/step - loss: 0.1351 - accuracy: 0.7493 - val_loss: 0.1253 - val_accuracy: 0.7754\n",
      "Epoch 2/5\n",
      "938/938 [==============================] - 5s 5ms/step - loss: 0.1263 - accuracy: 0.7726 - val_loss: 0.1248 - val_accuracy: 0.7743\n",
      "Epoch 3/5\n",
      "938/938 [==============================] - 5s 5ms/step - loss: 0.1263 - accuracy: 0.7726 - val_loss: 0.1263 - val_accuracy: 0.7663\n",
      "Epoch 4/5\n",
      "938/938 [==============================] - 5s 5ms/step - loss: 0.1265 - accuracy: 0.7713 - val_loss: 0.1244 - val_accuracy: 0.7761\n",
      "Epoch 5/5\n",
      "938/938 [==============================] - 5s 5ms/step - loss: 0.1267 - accuracy: 0.7717 - val_loss: 0.1264 - val_accuracy: 0.7692\n"
     ]
    },
    {
     "data": {
      "image/png": "[encoded data removed]",
      "text/plain": [
       "<Figure size 500x500 with 1 Axes>"
      ]
     },
     "metadata": {},
     "output_type": "display_data"
    }
   ],
   "source": [
    "# Model training\n",
    "params   = dict(batch_size=64, validation_split=.25, epochs=5, verbose=1, callbacks=[callbacks.EarlyStopping(patience=3, restore_best_weights=True)])\n",
    "training = model.fit(X_train, y_train, **params)\n",
    "plot_history(history=training.history, metric='accuracy', validation=True)\n",
    "del params"
   ]
  },
  {
   "attachments": {},
   "cell_type": "markdown",
   "metadata": {},
   "source": [
    "8. [Evaluate](https://keras.io/api/models/model_training_apis/) the model on the test sample and display a confusion matrix (see `metrics.confusion_matrix`) for the test sample."
   ]
  },
  {
   "cell_type": "code",
   "execution_count": null,
   "metadata": {},
   "outputs": [
    {
     "name": "stdout",
     "output_type": "stream",
     "text": [
      "Test loss: 0.1267\n",
      "Test accuracy: 0.7700\n",
      "              precision    recall  f1-score   support\n",
      "\n",
      "         0.0       0.80      0.92      0.85     14488\n",
      "         1.0       0.64      0.38      0.48      5512\n",
      "\n",
      "    accuracy                           0.77     20000\n",
      "   macro avg       0.72      0.65      0.67     20000\n",
      "weighted avg       0.75      0.77      0.75     20000\n",
      "\n"
     ]
    },
    {
     "data": {
      "image/png": "[encoded data removed]",
      "text/plain": [
       "<Figure size 640x480 with 2 Axes>"
      ]
     },
     "metadata": {},
     "output_type": "display_data"
    }
   ],
   "source": [
    "# Model evaluation\n",
    "print('Test loss: {:.4f}\\nTest accuracy: {:.4f}'.format(*model.evaluate(X_test, y_test, verbose=0)))\n",
    "\n",
    "# Confusion matrices\n",
    "yh_test = model.predict(X_test, verbose=0).round()\n",
    "cm_test = metrics.confusion_matrix(y_test, yh_test)\n",
    "metrics.ConfusionMatrixDisplay(cm_test).plot()\n",
    "\n",
    "# Statistics\n",
    "print(metrics.classification_report(y_test, yh_test))\n",
    "del yh_test, cm_test"
   ]
  },
  {
   "attachments": {},
   "cell_type": "markdown",
   "metadata": {},
   "source": [
    "9. Apply [regularisation](https://keras.io/api/layers/regularizers/) to the parameters in the hidden layers and improve the generalisation performance of the model."
   ]
  },
  {
   "cell_type": "code",
   "execution_count": null,
   "metadata": {},
   "outputs": [
    {
     "data": {
      "text/plain": [
       "<Signature (units, activation=None, use_bias=True, kernel_initializer='glorot_uniform', bias_initializer='zeros', kernel_regularizer=None, bias_regularizer=None, activity_regularizer=None, kernel_constraint=None, bias_constraint=None, **kwargs)>"
      ]
     },
     "execution_count": 67,
     "metadata": {},
     "output_type": "execute_result"
    }
   ],
   "source": [
    "# Adds regularisation \n",
    "for layer in ['hidden_layer1', 'hidden_layer2']:\n",
    "    model.get_layer(layer).kernel_regularizer = regularizers.l2() \n",
    "    model.get_layer(layer).bias_regularizer   = regularizers.l2() \n",
    "model.compile(loss=losses.MeanSquaredError(), optimizer=optimizers.legacy.Adam(learning_rate=0.001))\n",
    "\n",
    "# Regularisation can also be added directly to the layer\n",
    "inspect.signature(layers.Dense)"
   ]
  },
  {
   "cell_type": "markdown",
   "metadata": {},
   "source": [
    "10. Modify the model structure to improve predictive performance."
   ]
  }
 ],
 "metadata": {
  "kernelspec": {
   "display_name": "machinelearning",
   "language": "python",
   "name": "python3"
  },
  "language_info": {
   "codemirror_mode": {
    "name": "ipython",
    "version": 3
   },
   "file_extension": ".py",
   "mimetype": "text/x-python",
   "name": "python",
   "nbconvert_exporter": "python",
   "pygments_lexer": "ipython3",
   "version": "3.11.5"
  },
  "orig_nbformat": 4,
  "vscode": {
   "interpreter": {
    "hash": "7302c24fb2197c6d308d8a799b8c1926c619b1d29b7e68a60c06bc7e0374fe3f"
   }
  }
 },
 "nbformat": 4,
 "nbformat_minor": 2
}
